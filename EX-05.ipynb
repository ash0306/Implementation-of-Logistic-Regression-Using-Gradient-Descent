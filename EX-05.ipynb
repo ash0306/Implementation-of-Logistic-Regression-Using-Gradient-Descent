{
 "cells": [
  {
   "cell_type": "code",
   "execution_count": null,
   "metadata": {},
   "outputs": [],
   "source": [
    "import numpy as np\n",
    "import matplotlib.pyplot as plt\n",
    "from scipy import optimize\n",
    "data=np.loadtxt(\"/content/ex2data1.txt\",delimiter=',')\n",
    "x=data[:,[0,1]]\n",
    "y=data[:,2]"
   ]
  },
  {
   "cell_type": "code",
   "execution_count": null,
   "metadata": {},
   "outputs": [],
   "source": [
    "x[:5]"
   ]
  },
  {
   "cell_type": "code",
   "execution_count": null,
   "metadata": {},
   "outputs": [],
   "source": [
    "y[:5]"
   ]
  },
  {
   "cell_type": "code",
   "execution_count": null,
   "metadata": {},
   "outputs": [],
   "source": [
    "plt.figure()\n",
    "plt.scatter(X[y == 1][:, 0], X[y == 1][:, 1], label=\"Admitted\")\n",
    "plt.scatter(X[y == 0][:, 0], X[y == 0][:, 1], label=\"Not admitted\")\n",
    "plt.xlabel(\"Exam 1 score\")\n",
    "plt.ylabel(\"Exam 2 score\")\n",
    "plt.legend()\n",
    "plt.show()"
   ]
  },
  {
   "cell_type": "code",
   "execution_count": null,
   "metadata": {},
   "outputs": [],
   "source": [
    "def sigmoid(z):\n",
    "    return 1 / (1 + np.exp(-z))"
   ]
  },
  {
   "cell_type": "code",
   "execution_count": null,
   "metadata": {},
   "outputs": [],
   "source": [
    "plt.plot()\n",
    "X_plot = np.linspace(-10, 10, 100)\n",
    "plt.plot(X_plot, sigmoid(X_plot))\n",
    "plt.show()"
   ]
  },
  {
   "cell_type": "code",
   "execution_count": null,
   "metadata": {},
   "outputs": [],
   "source": [
    "def costFunction(theta, X, y):\n",
    "    h = sigmoid(np.dot(X, theta))\n",
    "    J = -(np.dot(y, np.log(h)) + np.dot(1 - y, np.log(1 - h))) / X.shape[0]\n",
    "    grad = np.dot(X.T, h - y) / X.shape[0]\n",
    "    return J, grad"
   ]
  },
  {
   "cell_type": "code",
   "execution_count": null,
   "metadata": {},
   "outputs": [],
   "source": [
    "X_train = np.hstack((np.ones((X.shape[0], 1)), X))\n",
    "theta = np.array([0, 0, 0])\n",
    "J, grad = costFunction(theta, X_train, y)\n",
    "print(J)  \n",
    "print(grad) "
   ]
  },
  {
   "cell_type": "code",
   "execution_count": null,
   "metadata": {},
   "outputs": [],
   "source": [
    "X_train = np.hstack((np.ones((X.shape[0], 1)), X))\n",
    "theta = np.array([-24, 0.2, 0.2])\n",
    "J, grad = costFunction(theta, X_train, y)\n",
    "print(J) \n",
    "print(grad)  "
   ]
  },
  {
   "cell_type": "code",
   "execution_count": null,
   "metadata": {},
   "outputs": [],
   "source": [
    "def cost(theta, X, y):\n",
    "    h = sigmoid(np.dot(X, theta))\n",
    "    J = - (np.dot(y, np.log(h)) + np.dot(1 - y, np.log(1 - h))) / X.shape[0]\n",
    "    return J\n",
    "\n",
    "\n",
    "def gradient(theta, X, y):\n",
    "    h = sigmoid(np.dot(X, theta))\n",
    "    grad = np.dot(X.T, h - y) / X.shape[0]\n",
    "    return grad"
   ]
  },
  {
   "cell_type": "code",
   "execution_count": null,
   "metadata": {},
   "outputs": [],
   "source": [
    "X_train = np.hstack((np.ones((X.shape[0], 1)), X))\n",
    "theta = np.array([0, 0, 0])\n",
    "res = optimize.minimize(fun=cost, x0=theta, args=(X_train, y), method='Newton-CG', jac=gradient)\n",
    "print(res.fun) \n",
    "print(res.x) "
   ]
  },
  {
   "cell_type": "code",
   "execution_count": null,
   "metadata": {},
   "outputs": [],
   "source": [
    "def plotDecisionBoundary(theta, X, y):\n",
    "    x_min, x_max = X[:, 0].min() - 1, X[:, 0].max() + 1\n",
    "    y_min, y_max = X[:, 1].min() - 1, X[:, 1].max() + 1\n",
    "    xx, yy = np.meshgrid(np.arange(x_min, x_max, 0.1),\n",
    "                         np.arange(y_min, y_max, 0.1))\n",
    "    X_plot = np.c_[xx.ravel(), yy.ravel()]\n",
    "    X_plot = np.hstack((np.ones((X_plot.shape[0], 1)), X_plot))\n",
    "    y_plot = np.dot(X_plot, theta).reshape(xx.shape)\n",
    "    \n",
    "    plt.figure()\n",
    "    plt.scatter(X[y == 1][:, 0], X[y == 1][:, 1], label=\"Admitted\")\n",
    "    plt.scatter(X[y == 0][:, 0], X[y == 0][:, 1], label=\"Not admitted\")\n",
    "    plt.contour(xx, yy, y_plot, levels=[0])\n",
    "    plt.xlabel(\"Exam 1 score\")\n",
    "    plt.ylabel(\"Exam 2 score\")\n",
    "    plt.legend()\n",
    "    plt.show()"
   ]
  },
  {
   "cell_type": "code",
   "execution_count": null,
   "metadata": {},
   "outputs": [],
   "source": [
    "plotDecisionBoundary(res.x, X, y)"
   ]
  },
  {
   "cell_type": "code",
   "execution_count": null,
   "metadata": {},
   "outputs": [],
   "source": [
    "prob = sigmoid(np.dot(np.array([1, 45, 85]), res.x))\n",
    "print(prob)  "
   ]
  },
  {
   "cell_type": "code",
   "execution_count": null,
   "metadata": {},
   "outputs": [],
   "source": [
    "def predict(theta, X):\n",
    "    X_train = np.hstack((np.ones((X.shape[0], 1)), X))\n",
    "    prob = sigmoid(np.dot(X_train, theta))\n",
    "    return (prob >= 0.5).astype(int)\n",
    "\n",
    "np.mean(predict(res.x, X) == y)"
   ]
  }
 ],
 "metadata": {
  "language_info": {
   "name": "python"
  },
  "orig_nbformat": 4
 },
 "nbformat": 4,
 "nbformat_minor": 2
}
